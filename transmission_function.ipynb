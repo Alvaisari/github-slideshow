{
  "cells": [
    {
      "cell_type": "markdown",
      "metadata": {
        "id": "view-in-github",
        "colab_type": "text"
      },
      "source": [
        "<a href=\"https://colab.research.google.com/github/Alvaisari/github-slideshow/blob/main/transmission_function.ipynb\" target=\"_parent\"><img src=\"https://colab.research.google.com/assets/colab-badge.svg\" alt=\"Open In Colab\"/></a>"
      ]
    },
    {
      "cell_type": "markdown",
      "id": "3dcc342c",
      "metadata": {
        "id": "3dcc342c"
      },
      "source": [
        "# <center><div style='font-family: \"serif\"'> Transmission function </div></center>\n",
        "\n",
        "<p style='text-align: justify; font-family: \"serif\"; font-size: 16px;'>\n",
        "Usually, XPS measurements are performed with the constant energy of detected electrons inside of the analyzer (fixed analyzer transmission mode). Electrons of a specific initial kinetic energy $E_k$ are measured by setting voltages for the lens system that both focus onto the entrance slit the electrons of the required initial energy and retards their velocity so that their kinetic energy after passing through the transfer lenses matches the pass energy $E_p$ of the analyser.\n",
        "<br><br>\n",
        "The measured intensity depends on the collection efficiency of the receiver, i.e., on its transmission function $T(E_k, E_p)$ (=intensity/energy response function). $T(E_k, E_p)$ includes all instrumental parameters of the XPS receiver such as acceptance area, acceptance solid angle and the detection efficiency. Thus $T(E_k, E_p)$ is instrument dependent [<a href=\"https://doi.org/10.1016/j.elspec.2017.07.004\">Trigueiro et al 2018</a>].\n",
        "<br><br>\n",
        "There are several methods for measuring $T(E_k, E_p)$, which are decribed in details by <a href=\"https://doi.org/10.1002/sia.740200302\">Weng et al 1993</a>. In case of liquid jet XPS the most suitable method is one developed by <a href=\"https://doi.org/10.1002/sia.740170502\">Carrazza and León 1991</a>. According to this method, $T(E_k, E_p)$ dependence can be evaluated from:\n",
        "<br><br>\n",
        "\\begin{equation}\n",
        "{T \\sim E_p (\\frac{E_p}{E_k})^{n}}\n",
        "\\end{equation}\n",
        "<br>\n",
        "where $n$ - coefficient depending on $E_k$, which needs to be found. To evaluate it from the experiment, at least two measurements of the same sample at the same $E_k$ should be performed. The expression for total recorded photoelectron signal $I$ from a specie is:\n",
        "<br><br>\n",
        "\\begin{equation}\n",
        "  I \\sim \\alpha F \\sigma T(E_k, E_p) I_n\n",
        "\\end{equation}\n",
        "<br>\n",
        "where $\\alpha$ is an experimental alignment factor, $F$ is total photon flux, $\\sigma$ is photoionization cross-section, $I_n$ is normalized signal. Assuming that:\n",
        "<ul style='text-align: justify; font-family: \"serif\"; font-size: 16px;'>\n",
        "  <li>$\\alpha$ is constant during the experiment</li>\n",
        "  <li>total photon flux can be substituted by mirror current $I_m$ due to their proportionality</li>\n",
        "  <li>$I_n$ is equal for 2 measurements of the same sample at the same $E_k$</li>\n",
        "  <li>$I_n$ and $I$ can be substituted by peak areas $A_n$ and $A$</li>\n",
        "</ul>\n",
        "<p style='text-align: justify; font-family: \"serif\"; font-size: 16px;'>\n",
        "we can deduce from the ratio of $I_n$ for 2 measurements and from the expression for $T(E_k, E_p)$ the coefficient $n$:\n",
        "<br><br>\n",
        "\\begin{equation}\n",
        "  n = \\log{\\frac{A_1 I_{m2} E_{p2}}{A_2 I_{m1} E_{p1}}} / \\log{\\frac{E_{p1}}{E_{p2}}} \n",
        "\\end{equation}\n",
        "<br>\n",
        "The advantage of the method is that a knowledge of $\\alpha$ and $\\sigma$ nor the use of a contamination-free sample is not required.\n",
        "<br><br>\n",
        "Let's take an example in Python code. 3 pairs of measurements were performed on a sample with varying $E_k$ of 60 (5 and 20 eV $E_p$), 210 and 410 eV (20 and 50 eV $E_p$ in each case):"
      ]
    },
    {
      "cell_type": "code",
      "execution_count": 1,
      "id": "c45a8b8e",
      "metadata": {
        "colab": {
          "base_uri": "https://localhost:8080/"
        },
        "id": "c45a8b8e",
        "outputId": "6ae00886-6999-40c0-c9bc-e7f1e68d424b"
      },
      "outputs": [
        {
          "output_type": "stream",
          "name": "stdout",
          "text": [
            "n values: \n",
            "0.11 0.09 0.15 \n",
            "Average: 0.11\n"
          ]
        }
      ],
      "source": [
        "# Data obtained. These can be substituted by your data.\n",
        "A_1 =  [213132,  1409318, 373099]  # \n",
        "A_2 =  [741699,  3995173, 1068549] #\n",
        "I_m1 = [243.861, 410.884, 438.056] # mA\n",
        "I_m2 = [245.856, 430.716, 437.926] # mA\n",
        "E_p1 = [5,       20,      20]      # eV\n",
        "E_p2 = [20,      50,      50]      # eV\n",
        "\n",
        "import numpy as np # import library\n",
        "\n",
        "n = [] # array for transmisson coefficient\n",
        "# fill n array\n",
        "for i in range(len(A_1)):\n",
        "    coef_1 = (A_1[i] * I_m2[i] * E_p2[i]) / (A_2[i] * I_m1[i] * E_p1[i])\n",
        "    coef_2 = E_p1[i] / E_p2[i]\n",
        "    n.append(abs(\n",
        "        np.log(coef_1) / np.log(coef_2)\n",
        "                )\n",
        "            )\n",
        "# average n\n",
        "n_aver = round(sum(n) / len(n), 2)\n",
        "\n",
        "print('n values: ')\n",
        "[print(round(i, 2), end =' ') for i in n]\n",
        "print(f'\\nAverage: {n_aver}')"
      ]
    },
    {
      "cell_type": "code",
      "execution_count": 5,
      "id": "ffbdfd20",
      "metadata": {
        "colab": {
          "base_uri": "https://localhost:8080/",
          "height": 289
        },
        "id": "ffbdfd20",
        "outputId": "c41b08c3-ccb0-4238-e879-dd566d38bf5b"
      },
      "outputs": [
        {
          "output_type": "display_data",
          "data": {
            "image/png": "[encoded data removed]",
            "text/plain": [
              "<Figure size 432x288 with 1 Axes>"
            ]
          },
          "metadata": {
            "needs_background": "light"
          }
        }
      ],
      "source": [
        "# now let's make plots\n",
        "# more libraries\n",
        "import matplotlib.pyplot as plt\n",
        "from matplotlib import rc\n",
        "\n",
        "# choosing font and text style for plots\n",
        "rc('font',**{'family':'serif',\n",
        "             'size':16})\n",
        "rc('text', usetex=True) # use LaTeX\n",
        "fig, ax = plt.subplots() # create plot space\n",
        "\n",
        "ek = np.arange(5, 500, 1) # kinetic energy\n",
        "ep = sorted(list(set(E_p1 + E_p2))) # pass energy used\n",
        "for energy in ep:\n",
        "    ax.plot(ek, (lambda ek: energy * (energy / ek) ** n_aver)(ek))\n",
        "\n",
        "ax.set_ylabel('Transmisson [a.u.]')\n",
        "ax.set_xlabel('Ek [eV]')\n",
        "ax.grid()\n",
        "# ax.grid(title=r\"\")\n",
        "plt.show();"
      ]
    }
  ],
  "metadata": {
    "kernelspec": {
      "display_name": "Python 3",
      "language": "python",
      "name": "python3"
    },
    "language_info": {
      "codemirror_mode": {
        "name": "ipython",
        "version": 3
      },
      "file_extension": ".py",
      "mimetype": "text/x-python",
      "name": "python",
      "nbconvert_exporter": "python",
      "pygments_lexer": "ipython3",
      "version": "3.8.8"
    },
    "colab": {
      "name": "transmission_function.ipynb",
      "provenance": [],
      "collapsed_sections": [],
      "include_colab_link": true
    }
  },
  "nbformat": 4,
  "nbformat_minor": 5
}